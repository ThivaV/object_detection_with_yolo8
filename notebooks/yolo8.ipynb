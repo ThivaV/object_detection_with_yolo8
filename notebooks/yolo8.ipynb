{
 "cells": [
  {
   "cell_type": "code",
   "execution_count": 1,
   "metadata": {},
   "outputs": [
    {
     "name": "stdout",
     "output_type": "stream",
     "text": [
      "Downloading https://github.com/ultralytics/assets/releases/download/v8.1.0/yolov8n.pt to 'yolov8n.pt'...\n",
      "100%|██████████████████████████████████████| 6.23M/6.23M [00:05<00:00, 1.17MB/s]\n",
      "Ultralytics YOLOv8.1.47 🚀 Python-3.9.0 torch-2.2.2+cu121 CUDA:0 (NVIDIA GeForce RTX 3050 6GB Laptop GPU, 6144MiB)\n",
      "YOLOv8n summary (fused): 168 layers, 3151904 parameters, 0 gradients, 8.7 GFLOPs\n",
      "\n",
      "Downloading https://ultralytics.com/images/bus.jpg to 'bus.jpg'...\n",
      "100%|█████████████████████████████████████████| 476k/476k [00:00<00:00, 567kB/s]\n",
      "image 1/1 /mnt/d/vault/devhub/object_detection_with_yolo8/notebooks/bus.jpg: 640x480 4 persons, 1 bus, 1 stop sign, 80.4ms\n",
      "Speed: 28.3ms preprocess, 80.4ms inference, 13303.6ms postprocess per image at shape (1, 3, 640, 480)\n",
      "Results saved to \u001b[1m/mnt/d/vault/devhub/object_detection_with_yolo8/runs/detect/predict\u001b[0m\n",
      "💡 Learn more at https://docs.ultralytics.com/modes/predict\n"
     ]
    }
   ],
   "source": [
    "!yolo predict model=yolov8n.pt source=\"https://ultralytics.com/images/bus.jpg\""
   ]
  },
  {
   "cell_type": "code",
   "execution_count": null,
   "metadata": {},
   "outputs": [],
   "source": []
  }
 ],
 "metadata": {
  "kernelspec": {
   "display_name": "Python 3",
   "language": "python",
   "name": "python3"
  },
  "language_info": {
   "codemirror_mode": {
    "name": "ipython",
    "version": 3
   },
   "file_extension": ".py",
   "mimetype": "text/x-python",
   "name": "python",
   "nbconvert_exporter": "python",
   "pygments_lexer": "ipython3",
   "version": "3.9.0"
  }
 },
 "nbformat": 4,
 "nbformat_minor": 2
}
